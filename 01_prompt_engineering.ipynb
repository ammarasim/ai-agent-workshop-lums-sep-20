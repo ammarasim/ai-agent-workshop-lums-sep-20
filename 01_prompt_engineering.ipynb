{
  "nbformat": 4,
  "nbformat_minor": 0,
  "metadata": {
    "colab": {
      "provenance": [],
      "include_colab_link": true
    },
    "kernelspec": {
      "name": "python3",
      "display_name": "Python 3"
    },
    "language_info": {
      "name": "python"
    }
  },
  "cells": [
    {
      "cell_type": "markdown",
      "metadata": {
        "id": "view-in-github",
        "colab_type": "text"
      },
      "source": [
        "<a href=\"https://colab.research.google.com/github/ammarasim/ai-agent-workshop-lums-sep-20/blob/main/01_prompt_engineering.ipynb\" target=\"_parent\"><img src=\"https://colab.research.google.com/assets/colab-badge.svg\" alt=\"Open In Colab\"/></a>"
      ]
    },
    {
      "cell_type": "markdown",
      "source": [
        "Environment Set up"
      ],
      "metadata": {
        "id": "g1GxhlJ7Xpqx"
      }
    },
    {
      "cell_type": "code",
      "source": [
        "from google.colab import userdata\n",
        "import google.generativeai as genai\n",
        "\n",
        "# Retrieve the API key from Colab Secrets\n",
        "GOOGLE_API_KEY = userdata.get('GOOGLE_API_KEY') # Replace 'GOOGLE_API_KEY' with the name you used\n",
        "\n",
        "# Configure the Generative AI SDK with your API key\n",
        "genai.configure(api_key=GOOGLE_API_KEY)\n",
        "\n",
        "# --- Helper Function ---\n",
        "def get_gemini_response(prompt: str, model_name: str = \"gemini-1.5-flash\"):\n",
        "    try:\n",
        "        model = genai.GenerativeModel(model_name)\n",
        "        response = model.generate_content(prompt)\n",
        "        return response.text\n",
        "    except Exception as e:\n",
        "        return f\"An error occurred: {e}\"\n",
        "\n",
        "# f-strings provide a concise and readable way to embed expressions (like\n",
        "# variables, function calls, or even simple arithmetic) directly within string\n",
        "# literals."
      ],
      "metadata": {
        "id": "uMrCuVwfYRrj"
      },
      "execution_count": 3,
      "outputs": []
    },
    {
      "cell_type": "markdown",
      "source": [
        "**1. Basic Instruction Prompting:**\n",
        "Write clear and specific instructions\n",
        "\n"
      ],
      "metadata": {
        "id": "imARHBmNVIbM"
      }
    },
    {
      "cell_type": "code",
      "source": [
        "prompt = f\"\"\" Explain AI for a layman. \"\"\"\n",
        "response = get_gemini_response(prompt)\n",
        "print(response)"
      ],
      "metadata": {
        "id": "QcEKNJ6kE9hl",
        "colab": {
          "base_uri": "https://localhost:8080/",
          "height": 221
        },
        "outputId": "2c1b7042-0f9a-487a-dc62-dfa1041f1cd7"
      },
      "execution_count": 4,
      "outputs": [
        {
          "output_type": "stream",
          "name": "stdout",
          "text": [
            "Imagine you have a really smart puppy.  You can teach it tricks, like \"sit\" or \"fetch,\" by showing it what to do and rewarding it when it gets it right.  Over time, the puppy learns to associate certain actions with rewards and gets better at the tricks.\n",
            "\n",
            "AI is kind of like that, but instead of a puppy, we have a computer program.  Instead of tricks, we teach it to perform tasks, like recognizing pictures of cats, translating languages, or playing chess.  We do this by feeding it tons of data – pictures of cats, sentences in different languages, chess games – and showing it the right answers.\n",
            "\n",
            "The computer program uses this data to learn patterns and rules, just like the puppy learns to associate actions with rewards.  It gets better at its tasks the more data it's given and the more it practices.  This learning process is called \"machine learning.\"\n",
            "\n",
            "Some AI systems are even more advanced. They can learn to solve problems they've never seen before, by figuring out the underlying principles from the data they've been given. This is called \"deep learning.\"\n",
            "\n",
            "So, AI isn't about creating conscious, thinking machines (at least not yet!). It's about creating computer programs that can learn from data and perform complex tasks, often better and faster than humans.  They're tools that can help us with everything from diagnosing diseases to designing better cars.\n",
            "\n"
          ]
        }
      ]
    },
    {
      "cell_type": "code",
      "source": [
        "prompt = f\"\"\"\n",
        "Explain quantum computing in simple terms using an analogy suitable for high school students.\n",
        "\"\"\"\n",
        "response = get_gemini_response(prompt)\n",
        "print(response)"
      ],
      "metadata": {
        "id": "BpSDg47tFbff",
        "colab": {
          "base_uri": "https://localhost:8080/",
          "height": 349
        },
        "outputId": "323330b5-3108-4af8-a3a6-cb32972503b7"
      },
      "execution_count": null,
      "outputs": [
        {
          "output_type": "stream",
          "name": "stdout",
          "text": [
            "Imagine a light switch.  A classical computer's bits are like that light switch: it's either ON (1) or OFF (0).  You can only have one state at a time.\n",
            "\n",
            "Now imagine a special, magical light switch. This is like a **qubit**, the basic unit of quantum computing.  This magical switch can be ON, OFF, or *both at the same time*!  This \"both at the same time\" state is called **superposition**.  It's like the switch is blurry, somewhere between ON and OFF, until you actually look at it (measure it).\n",
            "\n",
            "Furthermore, imagine two of these magical switches connected in a special way: if you flip one, the other automatically flips too, even if they're far apart. This is called **entanglement**. They're linked in a mysterious quantum way.\n",
            "\n",
            "Because qubits can be in superposition and entangled, a quantum computer can explore many possibilities *simultaneously*.  Think of it like this: a classical computer trying to find a specific grain of sand on a beach would have to check each grain one by one.  A quantum computer, using superposition, could, in a way, check all the grains *at once*.\n",
            "\n",
            "This massive parallelism allows quantum computers to potentially solve certain problems much faster than even the most powerful classical computers.  These problems include things like:\n",
            "\n",
            "* **Drug discovery:** Simulating molecules to find new medicines.\n",
            "* **Materials science:** Designing new materials with specific properties.\n",
            "* **Cryptography:** Breaking current encryption methods (and creating new, unbreakable ones).\n",
            "\n",
            "However, quantum computers are still in their early stages.  They're incredibly difficult to build and maintain because qubits are very fragile and easily disturbed.  Think of your magical light switch being easily affected by any tiny vibration or temperature change.\n",
            "\n",
            "So, while the potential is huge, we're still a long way from having quantum computers in everyone's homes.  But the possibility of this \"magical\" computing power is incredibly exciting!\n",
            "\n"
          ]
        }
      ]
    },
    {
      "cell_type": "markdown",
      "source": [
        "**2. Role Playing**"
      ],
      "metadata": {
        "id": "xc10zTuPEPiM"
      }
    },
    {
      "cell_type": "code",
      "source": [
        "prompt = f\"\"\"\n",
        "Explain photosynthesis.\n",
        "\"\"\"\n",
        "response = get_gemini_response(prompt)\n",
        "print(response)"
      ],
      "metadata": {
        "id": "FYKIeUWNF0OV",
        "colab": {
          "base_uri": "https://localhost:8080/",
          "height": 453
        },
        "outputId": "729e9e3d-c056-4d9b-da01-5593309e0adb"
      },
      "execution_count": null,
      "outputs": [
        {
          "output_type": "stream",
          "name": "stdout",
          "text": [
            "Photosynthesis is the process by which green plants and some other organisms use sunlight to synthesize foods with the help of chlorophyll.  It's the fundamental process that sustains most life on Earth, converting light energy into chemical energy in the form of sugars.\n",
            "\n",
            "Here's a breakdown of the process:\n",
            "\n",
            "**1. Light-Dependent Reactions (Light Reactions):**  These reactions occur in the thylakoid membranes within chloroplasts.\n",
            "\n",
            "* **Light Absorption:** Chlorophyll and other pigments within photosystems (protein complexes) absorb light energy.  Different pigments absorb different wavelengths of light; chlorophyll primarily absorbs red and blue light, reflecting green light (which is why plants appear green).\n",
            "* **Electron Excitation:** The absorbed light energy excites electrons in chlorophyll molecules to a higher energy level.\n",
            "* **Electron Transport Chain:** These high-energy electrons are passed along an electron transport chain, a series of protein complexes embedded in the thylakoid membrane.  As electrons move down the chain, energy is released and used to pump protons (H+) from the stroma (the fluid surrounding the thylakoids) into the thylakoid lumen (the space inside the thylakoids).\n",
            "* **ATP Synthesis:** The proton gradient created across the thylakoid membrane drives ATP synthase, an enzyme that produces ATP (adenosine triphosphate), the cell's main energy currency.\n",
            "* **Water Splitting (Photolysis):**  To replace the electrons lost by chlorophyll, water molecules are split, releasing electrons, protons (H+), and oxygen (O2) as a byproduct. This is how plants release the oxygen we breathe.\n",
            "* **NADPH Formation:**  At the end of the electron transport chain, the electrons are used to reduce NADP+ to NADPH, another energy-carrying molecule.\n",
            "\n",
            "\n",
            "**2. Light-Independent Reactions (Calvin Cycle or Dark Reactions):** These reactions occur in the stroma of the chloroplast and don't directly require light, although they depend on the products (ATP and NADPH) generated during the light-dependent reactions.\n",
            "\n",
            "* **Carbon Fixation:**  CO2 from the atmosphere is incorporated into an organic molecule (RuBP) through a process catalyzed by the enzyme RuBisCO. This forms an unstable six-carbon compound that quickly breaks down into two molecules of 3-PGA (3-phosphoglycerate).\n",
            "* **Reduction:**  ATP and NADPH from the light-dependent reactions are used to convert 3-PGA into G3P (glyceraldehyde-3-phosphate), a three-carbon sugar.\n",
            "* **Regeneration of RuBP:** Some G3P molecules are used to regenerate RuBP, ensuring the cycle continues.\n",
            "* **Sugar Production:** Other G3P molecules are used to synthesize glucose and other sugars, which serve as the plant's food source and building blocks for other organic molecules.\n",
            "\n",
            "\n",
            "In summary, photosynthesis uses light energy to convert carbon dioxide and water into glucose (a sugar) and oxygen.  The glucose provides energy and building blocks for the plant's growth and development, while the oxygen is released into the atmosphere.  This process is crucial for the Earth's ecosystem and the survival of most life forms.\n",
            "\n"
          ]
        }
      ]
    },
    {
      "cell_type": "code",
      "source": [
        "prompt = f\"\"\"\n",
        "You are a biology professor. Explain photosynthesis to first-year students with a simple analogy.\n",
        "\"\"\"\n",
        "response = get_gemini_response(prompt)\n",
        "print(response)"
      ],
      "metadata": {
        "id": "P9jDjTwJJ0wB",
        "colab": {
          "base_uri": "https://localhost:8080/",
          "height": 367
        },
        "outputId": "698ba6ab-e1ec-41a0-d7e4-b8914225196a"
      },
      "execution_count": null,
      "outputs": [
        {
          "output_type": "stream",
          "name": "stdout",
          "text": [
            "Alright class, settle down, settle down.  Let's talk about photosynthesis.  It's a process that sounds complicated, but it's really quite elegant. Think of it like this:\n",
            "\n",
            "Imagine a plant is a tiny, amazing chef.  Its kitchen is the chloroplast – that's where the magic happens.  This chef needs two main ingredients to cook up its delicious energy-rich food:\n",
            "\n",
            "1. **Carbon Dioxide (CO2):** This is like the flour for our chef.  It's a gas the plant sucks in from the air.\n",
            "\n",
            "2. **Water (H2O):**  This is the water the plant drinks from the soil – think of it as the chef's water supply.\n",
            "\n",
            "\n",
            "Now, the chef also needs energy to cook. This energy comes from the sun –  it's like the electricity powering the kitchen.  The chef captures this sunlight using a special ingredient, chlorophyll – think of this as the chef's super-efficient solar panels, giving it that lovely green color.\n",
            "\n",
            "The chef uses the sunlight energy to combine the flour (CO2) and water (H2O) to create sugar (glucose) – this is the plant's delicious energy-packed food!  It's like baking a cake – you take simple ingredients and with energy (the oven), create something far more complex and energy-rich.\n",
            "\n",
            "As a byproduct, the plant releases oxygen (O2) – that's like the chef letting out some steam from the oven. This oxygen is what we breathe!\n",
            "\n",
            "So, in short:  Sunlight + Water + Carbon Dioxide  --> Sugar (energy) + Oxygen\n",
            "\n",
            "That's photosynthesis in a nutshell.  The plant, our amazing chef, uses sunlight to turn simple ingredients into energy-rich food, releasing oxygen as a by-product.  Pretty cool, huh?  Any questions?\n",
            "\n"
          ]
        }
      ]
    },
    {
      "cell_type": "markdown",
      "source": [
        "**3. Constraint + Structured Prompting**"
      ],
      "metadata": {
        "id": "PWUXyZQBKKsO"
      }
    },
    {
      "cell_type": "code",
      "source": [
        "prompt = f\"\"\"\n",
        "Summarize perovskite solar cells research.\n",
        "\"\"\"\n",
        "response = get_gemini_response(prompt)\n",
        "print(response)"
      ],
      "metadata": {
        "id": "sH1RE6eqKN-K",
        "colab": {
          "base_uri": "https://localhost:8080/",
          "height": 315
        },
        "outputId": "0853720e-d735-4afb-e813-402da794122a"
      },
      "execution_count": null,
      "outputs": [
        {
          "output_type": "stream",
          "name": "stdout",
          "text": [
            "Perovskite solar cell research focuses on developing a new generation of solar cells using perovskite materials as the light-absorbing layer.  These materials are known for their exceptional properties: they're cheap to produce, can be solution-processed (making large-scale manufacturing easier and cheaper), and boast high power conversion efficiencies (PCEs) that are rapidly approaching and even surpassing those of traditional silicon-based solar cells.\n",
            "\n",
            "However, significant challenges remain.  Research currently concentrates on:\n",
            "\n",
            "* **Stability:** Perovskite materials are susceptible to degradation from moisture, oxygen, and heat.  A large portion of research focuses on improving their long-term stability through encapsulation techniques, material engineering (e.g., incorporating additives or modifying the perovskite composition), and device architecture optimization.\n",
            "\n",
            "* **Toxicity:** Some perovskite materials contain lead, raising environmental and health concerns.  Research is actively exploring lead-free perovskite alternatives, though these often come with compromises in efficiency and stability.\n",
            "\n",
            "* **Scale-up:** While laboratory-scale devices show promising results, scaling up production to meet commercial demands requires overcoming challenges related to material synthesis, uniformity, and cost-effective manufacturing processes.\n",
            "\n",
            "* **Efficiency:** While PCEs are high, further improvements are continuously sought through optimizing material composition, device architecture (e.g., tandem cells), and light trapping techniques.\n",
            "\n",
            "* **Understanding the underlying physics:**  A deeper understanding of the charge transport and recombination mechanisms within perovskite materials is crucial for further optimization and performance enhancement.\n",
            "\n",
            "In summary, perovskite solar cell research is a rapidly evolving field with significant progress in efficiency and cost-effectiveness.  Overcoming challenges related to stability, toxicity, and scalability will be crucial for their widespread adoption as a viable and sustainable alternative to traditional solar technologies.\n",
            "\n"
          ]
        }
      ]
    },
    {
      "cell_type": "code",
      "source": [
        "prompt = f\"\"\"\n",
        "Summarize perovskite solar cell research (2022–2025).\n",
        "    - Limit to 150 words.\n",
        "    - Use academic tone.\n",
        "    - List exactly 3 challenges and 2 applications.\n",
        "\"\"\"\n",
        "response = get_gemini_response(prompt)\n",
        "print(response)"
      ],
      "metadata": {
        "id": "KSjsd6cEKTp6",
        "colab": {
          "base_uri": "https://localhost:8080/",
          "height": 72
        },
        "outputId": "0f49ec54-f809-451b-ff05-e7fab6845f4c"
      },
      "execution_count": null,
      "outputs": [
        {
          "output_type": "stream",
          "name": "stdout",
          "text": [
            "Perovskite solar cell research from 2022-2025 focused on enhancing efficiency and stability.  Significant advancements were made in material synthesis and device engineering, pushing power conversion efficiencies towards 30%.  However, challenges remain.  Firstly, long-term stability, particularly under humidity and UV exposure, necessitates improved encapsulation strategies and material composition. Secondly, the toxicity of certain lead-based perovskites requires exploration of lead-free alternatives with comparable performance. Thirdly, upscaling production methods to achieve cost-effectiveness for widespread deployment presents a significant hurdle.  Promising applications include building-integrated photovoltaics (BIPV), seamlessly integrating solar energy into building designs, and portable electronics, leveraging their lightweight and flexible nature.\n",
            "\n"
          ]
        }
      ]
    },
    {
      "cell_type": "markdown",
      "source": [
        "**4. Ask for a structured output**"
      ],
      "metadata": {
        "id": "C3insigLiuoS"
      }
    },
    {
      "cell_type": "code",
      "source": [
        "prompt = f\"\"\"\n",
        "Generate a list of three made-up book titles along\n",
        "with their authors and genres.\n",
        "Provide them in JSON format with the following keys:\n",
        "book_id, title, author, genre.\n",
        "\"\"\"\n",
        "response = get_gemini_response(prompt)\n",
        "print(response)\n",
        "#JSON, tables → useful for later automation session"
      ],
      "metadata": {
        "id": "ZJcKnKO-yL-3",
        "colab": {
          "base_uri": "https://localhost:8080/",
          "height": 416
        },
        "outputId": "24679f59-7699-442e-eaba-ef3de1e70a4f"
      },
      "execution_count": null,
      "outputs": [
        {
          "output_type": "stream",
          "name": "stdout",
          "text": [
            "```json\n",
            "[\n",
            "  {\n",
            "    \"book_id\": \"1\",\n",
            "    \"title\": \"The Obsidian Mirror\",\n",
            "    \"author\": \"Elara Vance\",\n",
            "    \"genre\": \"Fantasy\"\n",
            "  },\n",
            "  {\n",
            "    \"book_id\": \"2\",\n",
            "    \"title\": \"Echoes of the Silent City\",\n",
            "    \"author\": \"Jasper Thorne\",\n",
            "    \"genre\": \"Science Fiction\"\n",
            "  },\n",
            "  {\n",
            "    \"book_id\": \"3\",\n",
            "    \"title\": \"The Clockwork Heart's Secret\",\n",
            "    \"author\": \"Seraphina Blackwood\",\n",
            "    \"genre\": \"Steampunk\"\n",
            "  }\n",
            "]\n",
            "```\n",
            "\n"
          ]
        }
      ]
    },
    {
      "cell_type": "markdown",
      "source": [
        "**5. \"Few-shot\" prompting**\\\n",
        "Give successful examples of completed tasks."
      ],
      "metadata": {
        "id": "seWeTozK2F93"
      }
    },
    {
      "cell_type": "code",
      "source": [
        "prompt = f\"\"\"\n",
        "Your task is to answer in a consistent style.\n",
        "\n",
        "<child>: Teach me about patience.\n",
        "\n",
        "<grandparent>: The river that carves the deepest\n",
        "valley flows from a modest spring; the\n",
        "grandest symphony originates from a single note;\n",
        "the most intricate tapestry begins with a solitary thread.\n",
        "\n",
        "<child>: Teach me about resilience.\n",
        "\"\"\"\n",
        "response = get_gemini_response(prompt)\n",
        "print(response)"
      ],
      "metadata": {
        "id": "33mNGeVr2Jfd",
        "colab": {
          "base_uri": "https://localhost:8080/",
          "height": 52
        },
        "outputId": "972831a7-3e30-4d55-cd3b-b30a469831e3"
      },
      "execution_count": null,
      "outputs": [
        {
          "output_type": "stream",
          "name": "stdout",
          "text": [
            "<grandparent>: The willow bends in the storm, but does not break; the bamboo sways, yet stands tall; the seed pushes through the hardest earth to find the sun.\n",
            "\n"
          ]
        }
      ]
    },
    {
      "cell_type": "markdown",
      "source": [
        "**6. Chain-of-Thought Prompting**"
      ],
      "metadata": {
        "id": "JT0r8DpEMTcQ"
      }
    },
    {
      "cell_type": "code",
      "source": [
        "prompt = f\"\"\"\n",
        "What’s 23 × 47?\n",
        "\"\"\"\n",
        "response = get_gemini_response(prompt)\n",
        "print(response)"
      ],
      "metadata": {
        "id": "hNSFdvkWMavC",
        "colab": {
          "base_uri": "https://localhost:8080/",
          "height": 52
        },
        "outputId": "c4ffc46e-ebb8-407a-daea-4b1e68c17779"
      },
      "execution_count": null,
      "outputs": [
        {
          "output_type": "stream",
          "name": "stdout",
          "text": [
            "23 × 47 = 1081\n",
            "\n"
          ]
        }
      ]
    },
    {
      "cell_type": "code",
      "source": [
        "prompt = f\"\"\"\n",
        "Solve step by step:\n",
        "    What is 23 × 47?\n",
        "    Show your reasoning before giving the final answer.\n",
        "\"\"\"\n",
        "response = get_gemini_response(prompt)\n",
        "print(response)"
      ],
      "metadata": {
        "id": "nR2nDFccMmQw",
        "colab": {
          "base_uri": "https://localhost:8080/",
          "height": 295
        },
        "outputId": "ccc5ee04-e98b-4905-ff30-8a0af6f8bfd8"
      },
      "execution_count": null,
      "outputs": [
        {
          "output_type": "stream",
          "name": "stdout",
          "text": [
            "We can solve 23 × 47 using the distributive property of multiplication.  We'll break down 47 into 40 + 7 and then multiply 23 by each part separately.\n",
            "\n",
            "**Step 1: Multiply 23 by 40**\n",
            "\n",
            "23 × 40 = (23 × 4) × 10  = 92 × 10 = 920\n",
            "\n",
            "**Step 2: Multiply 23 by 7**\n",
            "\n",
            "23 × 7 = (20 × 7) + (3 × 7) = 140 + 21 = 161\n",
            "\n",
            "**Step 3: Add the results from Step 1 and Step 2**\n",
            "\n",
            "920 + 161 = 1081\n",
            "\n",
            "Therefore, 23 × 47 = 1081\n",
            "\n"
          ]
        }
      ]
    },
    {
      "cell_type": "markdown",
      "source": [
        "**Iterative Prompt Development**"
      ],
      "metadata": {
        "id": "PvR-xnsP-sf7"
      }
    },
    {
      "cell_type": "markdown",
      "source": [
        "Bad Prompt"
      ],
      "metadata": {
        "id": "uVHjd-uVNuwT"
      }
    },
    {
      "cell_type": "code",
      "source": [
        "prompt = f\"\"\"\n",
        "Summarize research about perovskite solar cells.\n",
        "\"\"\"\n",
        "response = get_gemini_response(prompt)\n",
        "print(response)\n",
        "#Issues:Too vague (length, audience, time window not defined).\n",
        "#May return unfocused or overly broad answers.\n",
        "#Doesn’t tell the model how deep or structured the response should be."
      ],
      "metadata": {
        "id": "-AaUIUEb-1fN",
        "colab": {
          "base_uri": "https://localhost:8080/",
          "height": 297
        },
        "outputId": "c1a019cb-9a68-4a2a-a340-15cde8549f86"
      },
      "execution_count": null,
      "outputs": [
        {
          "output_type": "stream",
          "name": "stdout",
          "text": [
            "Research on perovskite solar cells has exploded in the last two decades due to their remarkable potential to surpass silicon-based solar cells in efficiency and cost-effectiveness.  The research focuses on several key areas:\n",
            "\n",
            "**High Efficiency and Performance:**  Perovskites have demonstrated rapid increases in power conversion efficiency, nearing and in some cases exceeding 25%, rivaling the best silicon cells. This is achieved through material engineering, focusing on optimizing crystal structure, composition (e.g., incorporating organic and inorganic components), and dimensionality (e.g., 2D/3D perovskites).\n",
            "\n",
            "**Stability:** This is a major hurdle. Perovskites are sensitive to moisture, oxygen, and heat, leading to degradation of performance over time.  Research efforts concentrate on developing encapsulation techniques to protect the perovskite layer, modifying the perovskite material itself for enhanced stability (e.g., using more robust organic cations or inorganic substitutes), and understanding the degradation mechanisms.  Improved stability is crucial for commercial viability.\n",
            "\n",
            "**Cost-Effectiveness:**  Perovskite materials are relatively cheap and easy to synthesize using solution-processing techniques, making them potentially much cheaper to manufacture than silicon solar cells. This low-cost manufacturing is a key advantage. Research is ongoing to optimize these solution-processing methods to further reduce costs and improve scalability.\n",
            "\n",
            "**Toxicity and Environmental Impact:** Some perovskite components contain lead, raising concerns about toxicity and environmental impact.  Research is actively exploring lead-free alternatives, using elements like tin or bismuth, though these often exhibit lower performance and stability.  Life cycle assessments are also being conducted to fully understand the environmental footprint of perovskite solar cells.\n",
            "\n",
            "**Applications:** Beyond standard solar panels, research explores applications in flexible solar cells, transparent solar cells, and tandem solar cells (combining perovskites with other materials like silicon to further boost efficiency).\n",
            "\n",
            "\n",
            "In summary, perovskite solar cell research is a rapidly evolving field. While significant progress has been made in efficiency, stability remains the most significant challenge.  Overcoming this, along with addressing toxicity concerns and scaling up production, are crucial steps towards widespread commercial adoption and realizing the full potential of this promising technology.\n",
            "\n"
          ]
        }
      ]
    },
    {
      "cell_type": "markdown",
      "source": [
        "Slightly Better Prompt"
      ],
      "metadata": {
        "id": "HZOeZ3-ECgaF"
      }
    },
    {
      "cell_type": "code",
      "source": [
        "prompt = \"\"\"\n",
        "Summarize the latest research about perovskite solar cells.\n",
        "Highlight key challenges, recent breakthroughs, and potential applications.\n",
        "Keep it under 200 words.\n",
        "\"\"\"\n",
        "response = get_gemini_response(prompt)\n",
        "print(response)"
      ],
      "metadata": {
        "id": "Wt6_DBwFA43m",
        "colab": {
          "base_uri": "https://localhost:8080/",
          "height": 141
        },
        "outputId": "f93f04e8-60b2-4a6c-ef43-9fba22221f5e"
      },
      "execution_count": null,
      "outputs": [
        {
          "output_type": "stream",
          "name": "stdout",
          "text": [
            "Recent research on perovskite solar cells focuses on enhancing stability and scalability for commercial viability.  Key challenges remain:  long-term stability in humidity and heat,  toxicity of some components (lead), and hysteresis (varying performance based on voltage sweep direction).\n",
            "\n",
            "Breakthroughs include improved encapsulation techniques mitigating humidity degradation, development of lead-free perovskite compositions, and advancements in large-scale deposition methods like inkjet printing.  Researchers are exploring tandem architectures combining perovskites with silicon or other materials to achieve higher efficiencies, exceeding 29% in laboratory settings.\n",
            "\n",
            "Potential applications extend beyond traditional photovoltaics.  Perovskites' flexibility and low manufacturing costs suggest uses in flexible solar panels for wearable electronics and building-integrated photovoltaics.  Their potential in transparent solar cells and low-light applications further broadens their scope.  However, widespread adoption hinges on addressing remaining stability and toxicity concerns.\n",
            "\n"
          ]
        }
      ]
    },
    {
      "cell_type": "markdown",
      "source": [
        "Good Prompt with Role, Structure, and Constraints"
      ],
      "metadata": {
        "id": "NYmRSA7dCjbe"
      }
    },
    {
      "cell_type": "code",
      "source": [
        "prompt = \"\"\"\n",
        "You are an expert science communicator.\n",
        "Task: Summarize the latest research (2022–2025) on perovskite solar cells.\n",
        "Requirements:\n",
        "1. Include 3 key challenges researchers are focusing on.\n",
        "2. Mention 2–3 major breakthroughs or experimental results.\n",
        "3. Explain potential applications in renewable energy.\n",
        "4. Target audience: graduate students in materials science.\n",
        "5. Keep summary concise (150–200 words).\n",
        "6. Use clear, professional language.\n",
        "\n",
        "Format:\n",
        "- Challenges\n",
        "- Breakthroughs\n",
        "- Applications\n",
        "\"\"\"\n",
        "response=get_gemini_response(prompt)\n",
        "print(response)"
      ],
      "metadata": {
        "id": "6t5m802yBjfQ",
        "colab": {
          "base_uri": "https://localhost:8080/",
          "height": 176
        },
        "outputId": "4cebd1fc-8e49-419c-8885-92bc8988b7a3"
      },
      "execution_count": null,
      "outputs": [
        {
          "output_type": "stream",
          "name": "stdout",
          "text": [
            "**Perovskite Solar Cell Research (2022-2025): A Summary for Materials Scientists**\n",
            "\n",
            "**Challenges:**  Current research intensely focuses on three key challenges limiting perovskite solar cell (PSC) commercialization: (1) **long-term stability:**  degradation due to moisture, oxygen, and heat remains a significant hurdle, demanding improved encapsulation and material engineering; (2) **toxicity:**  lead-based perovskites necessitate the development of environmentally benign, high-performance lead-free alternatives; and (3) **scale-up:**  achieving cost-effective large-scale fabrication of high-efficiency PSCs requires optimization of deposition techniques and material processing.\n",
            "\n",
            "**Breakthroughs:** Recent breakthroughs include the demonstration of significantly improved stability through innovative passivation strategies, resulting in devices exceeding 25% efficiency with enhanced operational lifetimes.  Furthermore, exciting progress in lead-free perovskites, utilizing materials like tin or bismuth, shows promising efficiency gains, although still lagging behind lead-based counterparts.  Advances in tandem solar cells integrating perovskites with silicon have also yielded record-breaking efficiencies, showcasing the synergistic potential of hybrid architectures.\n",
            "\n",
            "**Applications:**  The enhanced efficiency and potential for low-cost manufacturing position PSCs as a transformative technology for renewable energy.  Applications range from building-integrated photovoltaics (BIPV) and portable power devices to large-scale solar farms, potentially revolutionizing decentralized energy generation and contributing significantly to a sustainable energy future.  The scalability of PSCs coupled with their tunable optoelectronic properties makes them highly suitable for various applications beyond standard photovoltaic technologies.\n",
            "\n"
          ]
        }
      ]
    },
    {
      "cell_type": "markdown",
      "source": [
        "Great Prompt with Style & Citations"
      ],
      "metadata": {
        "id": "0R8J0GzCCSeR"
      }
    },
    {
      "cell_type": "code",
      "source": [
        "prompt = \"\"\"\n",
        "You are an expert research summarizer. Summarize recent (2022–2025) research on perovskite solar cells.\n",
        "\n",
        "Instructions:\n",
        "- Start with a 2–3 sentence overview of why this field matters.\n",
        "- List exactly 3 key challenges with one-sentence explanations.\n",
        "- List exactly 3 recent breakthroughs, each with the year and research group or journal (if available).\n",
        "- Mention 2 potential applications in renewable energy and commercialization.\n",
        "- Audience: graduate students in material science and photovoltaics.\n",
        "- Use clear, academic tone.\n",
        "- Limit response to 200 words.\n",
        "- End with: \"Summary generated using AI, verify with primary sources.\"\n",
        "\n",
        "Format:\n",
        "Overview\n",
        "Challenges\n",
        "Breakthroughs\n",
        "Applications\n",
        "Disclaimer\n",
        "\"\"\"\n",
        "response=get_gemini_response(prompt)\n",
        "print(response)"
      ],
      "metadata": {
        "id": "1CEmG2V1CFPj",
        "colab": {
          "base_uri": "https://localhost:8080/",
          "height": 349
        },
        "outputId": "d5a07494-67bf-41b7-9812-f6c9db4452c6"
      },
      "execution_count": null,
      "outputs": [
        {
          "output_type": "stream",
          "name": "stdout",
          "text": [
            "Overview: Perovskite solar cells (PSCs) are attracting significant attention due to their potential for high power conversion efficiency at a fraction of the cost of silicon-based cells.  Their solution processability and tunable optoelectronic properties offer pathways to flexible and lightweight photovoltaic technologies.  Overcoming current limitations is crucial for realizing their widespread adoption.\n",
            "\n",
            "Challenges:\n",
            "1.  Long-term stability remains a significant hurdle, with perovskite materials prone to degradation under environmental stresses like moisture and oxygen.\n",
            "2.  Toxicity of some lead-based perovskites presents a major environmental and health concern, necessitating the development of lead-free alternatives.\n",
            "3.  Hysteresis effects in current-voltage curves complicate accurate performance assessment and device optimization.\n",
            "\n",
            "Breakthroughs:\n",
            "1.  (2023)  Researchers at the National Renewable Energy Laboratory (NREL) demonstrated enhanced stability in PSCs through improved interfacial engineering techniques, significantly extending operational lifetime.\n",
            "2.  (2024)  A study published in *Science* reported a significant increase in efficiency using a novel double-perovskite structure, minimizing lead content while maintaining performance.\n",
            "3.  (2022)  The University of Oxford group achieved a reduction in hysteresis through the use of a modified deposition technique, leading to more reproducible results.\n",
            "\n",
            "Applications:\n",
            "1.  Building-integrated photovoltaics (BIPV) for energy harvesting in buildings and infrastructure.\n",
            "2.  Portable and flexible solar chargers for consumer electronics.\n",
            "\n",
            "Summary generated using AI, verify with primary sources.\n",
            "\n"
          ]
        }
      ]
    },
    {
      "cell_type": "markdown",
      "source": [
        "**Model Limitations: Hallucinations**"
      ],
      "metadata": {
        "id": "5VVnAn2LOH2H"
      }
    },
    {
      "cell_type": "code",
      "source": [
        "prompt = f\"\"\"\n",
        "Tell me about SolInnovate Toothbrush by SolInnovate\n",
        "\"\"\"\n",
        "response = get_gemini_response(prompt)\n",
        "print(response)"
      ],
      "metadata": {
        "id": "nWriKGCjOOrn"
      },
      "execution_count": null,
      "outputs": []
    },
    {
      "cell_type": "code",
      "source": [
        "prompt = f\"\"\"\n",
        "Tell me about SolInnovate Toothbrush by SolInnovate.\n",
        "First find relvant information, then answer the question based on relevant information.\n",
        "\"\"\"\n",
        "response = get_gemini_response(prompt)\n",
        "print(response)"
      ],
      "metadata": {
        "id": "F5PBbN2BOYNz",
        "colab": {
          "base_uri": "https://localhost:8080/",
          "height": 315
        },
        "outputId": "cd9b3d1d-1adf-4afd-9c8b-9bf94619cfa4"
      },
      "execution_count": null,
      "outputs": [
        {
          "output_type": "stream",
          "name": "stdout",
          "text": [
            "I cannot find any information about a toothbrush brand or product called \"SolInnovate Toothbrush\" from a company named \"SolInnovate\" through reputable online sources like company websites, major retailers, or product databases.  It's possible:\n",
            "\n",
            "* **The name is slightly different:** There might be a minor spelling variation in the brand or product name.\n",
            "* **It's a very new or small company:**  New companies and products may not have a significant online presence yet.\n",
            "* **The information is inaccurate:** The name may be a misunderstanding or a misremembered brand.\n",
            "\n",
            "\n",
            "To help me find the information you're looking for, could you provide any additional details? For example:\n",
            "\n",
            "* **Where did you hear about this toothbrush?** (A website, advertisement, friend, etc.)\n",
            "* **Do you remember any other details about it?** (Color, features, materials, price range, etc.)\n",
            "* **Is there a specific technology or innovation it's known for?** (e.g., sonic vibration, charcoal bristles)\n",
            "\n",
            "\n",
            "With more details, I can attempt a more effective search and provide you with relevant information.\n",
            "\n"
          ]
        }
      ]
    }
  ]
}